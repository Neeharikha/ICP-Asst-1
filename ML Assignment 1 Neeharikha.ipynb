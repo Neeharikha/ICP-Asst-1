{
 "cells": [
  {
   "cell_type": "code",
   "execution_count": 39,
   "id": "e19a8a65",
   "metadata": {},
   "outputs": [
    {
     "name": "stdout",
     "output_type": "stream",
     "text": [
      "[12 10 10  2 12 19 19  5  1 14 18  1  4  1 18]\n"
     ]
    }
   ],
   "source": [
    "#1) a ) Using NumPy create random vector of size 15 having only Integers in the range 1-20.\n",
    "import numpy as np\n",
    "\n",
    "#a Using NumPy create random vector of size 15 having only Integers in the range 1-20.\n",
    "a = np.random.randint(1, 20, size=15)\n",
    "print(a)\n"
   ]
  },
  {
   "cell_type": "code",
   "execution_count": 40,
   "id": "316812f1",
   "metadata": {},
   "outputs": [
    {
     "name": "stdout",
     "output_type": "stream",
     "text": [
      "[[12 10 10  2 12]\n",
      " [19 19  5  1 14]\n",
      " [18  1  4  1 18]]\n"
     ]
    }
   ],
   "source": [
    "#1. Reshape the array to 3 by 5, \n",
    "b=a.reshape(3,5)\n",
    "print(b)"
   ]
  },
  {
   "cell_type": "code",
   "execution_count": 41,
   "id": "6aaa8f2d",
   "metadata": {},
   "outputs": [
    {
     "name": "stdout",
     "output_type": "stream",
     "text": [
      "Array shape: (3, 5)\n"
     ]
    }
   ],
   "source": [
    "#2. Print array shape.\n",
    "print(\"Array shape:\", b.shape)"
   ]
  },
  {
   "cell_type": "code",
   "execution_count": 42,
   "id": "e4d09117",
   "metadata": {},
   "outputs": [
    {
     "name": "stdout",
     "output_type": "stream",
     "text": [
      "[[ 0 10 10  2  0]\n",
      " [ 0  0  5  1 14]\n",
      " [ 0  1  4  1  0]]\n"
     ]
    }
   ],
   "source": [
    "#3. Replace the maximum value in each row with 0\n",
    "c=np.where(b==[[i] for i in np.amax(b,axis=1)],0,b)\n",
    "print(c)"
   ]
  },
  {
   "cell_type": "code",
   "execution_count": 11,
   "id": "fd40d410",
   "metadata": {},
   "outputs": [],
   "source": [
    "# 1) a ) Create a 2-dimensional array of size 4 x 3 (composed of 4-byte integer elements), also print the shape, type and data type of the array"
   ]
  },
  {
   "cell_type": "code",
   "execution_count": 43,
   "id": "e2370e59",
   "metadata": {},
   "outputs": [
    {
     "name": "stdout",
     "output_type": "stream",
     "text": [
      "Array shape: (4, 3)\n",
      "Array type: <class 'numpy.ndarray'>\n",
      "Array data type: int32\n"
     ]
    }
   ],
   "source": [
    "import numpy as np\n",
    "\n",
    "# Create a 2-dimensional array of size 4 x 3\n",
    "a = np.empty((4, 3), dtype=np.int32)\n",
    "\n",
    "# Print the shape of the array\n",
    "print(\"Array shape:\", a.shape)\n",
    "\n",
    "# Print the type of the array\n",
    "print(\"Array type:\", type(a))\n",
    "\n",
    "# Print the data type of the array\n",
    "print(\"Array data type:\", a.dtype)\n"
   ]
  },
  {
   "cell_type": "code",
   "execution_count": null,
   "id": "5763cb86",
   "metadata": {},
   "outputs": [],
   "source": [
    "### 1) b) Write a program to compute the eigenvalues and right eigenvectors of a given square array given below:"
   ]
  },
  {
   "cell_type": "code",
   "execution_count": 45,
   "id": "44b48e4e",
   "metadata": {},
   "outputs": [
    {
     "name": "stdout",
     "output_type": "stream",
     "text": [
      "Eigenvalues: [2. 1.]\n",
      "\n",
      "Right Eigenvectors: [[0.89442719 0.70710678]\n",
      " [0.4472136  0.70710678]]\n"
     ]
    }
   ],
   "source": [
    "import numpy as np\n",
    "\n",
    "# Define the square array\n",
    "a = np.array([[3, -2], [1, 0]])\n",
    "\n",
    "# Compute eigenvalues and right eigenvectors\n",
    "eigenvalues, eigenvectors = np.linalg.eig(a)\n",
    "\n",
    "# Print the eigenvalues\n",
    "print(\"Eigenvalues:\",eigenvalues)\n",
    "\n",
    "# Print the right eigenvectors\n",
    "print(\"\\nRight Eigenvectors:\",eigenvectors)\n"
   ]
  },
  {
   "cell_type": "code",
   "execution_count": null,
   "id": "eeaf0612",
   "metadata": {},
   "outputs": [],
   "source": [
    "# 1) c) . Compute the sum of the diagonal element of a given array. "
   ]
  },
  {
   "cell_type": "code",
   "execution_count": 46,
   "id": "7c45c042",
   "metadata": {},
   "outputs": [
    {
     "name": "stdout",
     "output_type": "stream",
     "text": [
      "Sum of diagonal elements: 4\n"
     ]
    }
   ],
   "source": [
    "import numpy as np\n",
    "\n",
    "# Define the array\n",
    "ar = np.array([[0, 1, 2], [3, 4, 5]])\n",
    "\n",
    "# Compute the sum of the diagonal elements\n",
    "diagonal_sum = np.trace(ar)\n",
    "\n",
    "# Print the sum\n",
    "print(\"Sum of diagonal elements:\", diagonal_sum)\n"
   ]
  },
  {
   "cell_type": "code",
   "execution_count": null,
   "id": "6730b341",
   "metadata": {},
   "outputs": [],
   "source": [
    "# 1) d) Write a NumPy program to create a new shape to an array without changing its data. "
   ]
  },
  {
   "cell_type": "code",
   "execution_count": 47,
   "id": "9a04ad3a",
   "metadata": {},
   "outputs": [
    {
     "name": "stdout",
     "output_type": "stream",
     "text": [
      "Original Array:\n",
      " [[1 2]\n",
      " [3 4]\n",
      " [5 6]]\n",
      "\n",
      "Reshaped Array (3x2):\n",
      " [[1 2]\n",
      " [3 4]\n",
      " [5 6]]\n",
      "\n",
      "Reshaped Array (2x3):\n",
      " [[1 2 3]\n",
      " [4 5 6]]\n"
     ]
    }
   ],
   "source": [
    "import numpy as np\n",
    "\n",
    "# Define the original array\n",
    "a = np.array([[1, 2], [3, 4], [5, 6]])\n",
    "\n",
    "# Reshape to 3x2\n",
    "reshaped3x2 = a.reshape(3, 2)\n",
    "\n",
    "# Reshape to 2x3\n",
    "reshaped2x3= a.reshape(2, 3)\n",
    "\n",
    "# Print the original array and the reshaped arrays\n",
    "print(\"Original Array:\\n\",a)\n",
    "print(\"\\nReshaped Array (3x2):\\n\",reshaped3x2)\n",
    "print(\"\\nReshaped Array (2x3):\\n\",reshaped2x3)\n",
    "\n"
   ]
  },
  {
   "cell_type": "code",
   "execution_count": 15,
   "id": "9302abbb",
   "metadata": {},
   "outputs": [],
   "source": [
    "# 2)1) Write a Python programming to create a below chart of the popularity of programming Languages."
   ]
  },
  {
   "cell_type": "code",
   "execution_count": 50,
   "id": "0cd9a698",
   "metadata": {},
   "outputs": [
    {
     "data": {
      "image/png": "[encoded data removed]",
      "text/plain": [
       "<Figure size 432x288 with 1 Axes>"
      ]
     },
     "metadata": {},
     "output_type": "display_data"
    }
   ],
   "source": [
    "import matplotlib.pyplot as plt\n",
    "languages = ['Java', 'Python', 'PHP', 'JavaScript', 'C#', 'C++']\n",
    "popularity = [22.2,17.6,8.8,8,7.7,6.7]\n",
    "colors=['#1f77b4','#ff7f0e','#2ca02c','#d62728','#9467bd','#8c564b']\n",
    "\n",
    "# Explode 1st slice\n",
    "explode = (0.1, 0, 0, 0, 0, 0)  # Adjust the values as desired\n",
    "\n",
    "# Plotting the pie chart\n",
    "fig, ax = plt.subplots()\n",
    "ax.pie(popularity, labels=languages,colors=colors, autopct='%1.1f%%', startangle=140, shadow = True, explode=explode)\n",
    "\n",
    "ax.set_title('Popularity of Programming Languages')\n",
    "ax.axis('equal')\n",
    "plt.show()"
   ]
  }
 ],
 "metadata": {
  "kernelspec": {
   "display_name": "Python 3",
   "language": "python",
   "name": "python3"
  },
  "language_info": {
   "codemirror_mode": {
    "name": "ipython",
    "version": 3
   },
   "file_extension": ".py",
   "mimetype": "text/x-python",
   "name": "python",
   "nbconvert_exporter": "python",
   "pygments_lexer": "ipython3",
   "version": "3.8.8"
  }
 },
 "nbformat": 4,
 "nbformat_minor": 5
}
