{
 "cells": [
  {
   "cell_type": "code",
   "execution_count": 16,
   "id": "2a072bf3",
   "metadata": {},
   "outputs": [],
   "source": [
    "#1) a ) Using NumPy create random vector of size 15 having only Integers in the range 1-20. 1. Reshape the array to 3 by 5, \n",
    "    #2. Print array shape.\n",
    "    #3. Replace the max in each row by 0"
   ]
  },
  {
   "cell_type": "code",
   "execution_count": 1,
   "id": "e19a8a65",
   "metadata": {},
   "outputs": [
    {
     "name": "stdout",
     "output_type": "stream",
     "text": [
      "Array shape: (3, 5)\n",
      "Modified array:\n",
      "[[ 0  6 10  1  2]\n",
      " [ 0 13 18 13  6]\n",
      " [ 3  2 12  3  0]]\n"
     ]
    }
   ],
   "source": [
    "import numpy as np\n",
    "\n",
    "# Generate a random vector of size 15 with integers in the range 1-20\n",
    "random_vector = np.random.randint(1, 21, size=15)\n",
    "\n",
    "# Reshape the array to 3 by 5\n",
    "reshaped_array = random_vector.reshape(3, 5)\n",
    "\n",
    "# Print the array shape\n",
    "print(\"Array shape:\", reshaped_array.shape)\n",
    "\n",
    "# Replace the maximum value in each row with 0\n",
    "reshaped_array[np.arange(reshaped_array.shape[0]), np.argmax(reshaped_array, axis=1)] = 0\n",
    "\n",
    "# Print the modified array\n",
    "print(\"Modified array:\")\n",
    "print(reshaped_array)\n"
   ]
  },
  {
   "cell_type": "code",
   "execution_count": 11,
   "id": "f85e5e70",
   "metadata": {},
   "outputs": [],
   "source": [
    "# 1) a ) Create a 2-dimensional array of size 4 x 3 (composed of 4-byte integer elements), also print the shape, type and data type of the array"
   ]
  },
  {
   "cell_type": "code",
   "execution_count": 2,
   "id": "e2370e59",
   "metadata": {},
   "outputs": [
    {
     "name": "stdout",
     "output_type": "stream",
     "text": [
      "Array shape: (4, 3)\n",
      "Array type: <class 'numpy.ndarray'>\n",
      "Array data type: int32\n"
     ]
    }
   ],
   "source": [
    "import numpy as np\n",
    "\n",
    "# Create a 2-dimensional array of size 4 x 3\n",
    "array = np.empty((4, 3), dtype=np.int32)\n",
    "\n",
    "# Print the shape of the array\n",
    "print(\"Array shape:\", array.shape)\n",
    "\n",
    "# Print the type of the array\n",
    "print(\"Array type:\", type(array))\n",
    "\n",
    "# Print the data type of the array\n",
    "print(\"Array data type:\", array.dtype)\n"
   ]
  },
  {
   "cell_type": "code",
   "execution_count": null,
   "id": "db4e1ef8",
   "metadata": {},
   "outputs": [],
   "source": [
    "### 1) b) Write a program to compute the eigenvalues and right eigenvectors of a given square array given below:"
   ]
  },
  {
   "cell_type": "code",
   "execution_count": 3,
   "id": "44b48e4e",
   "metadata": {},
   "outputs": [
    {
     "name": "stdout",
     "output_type": "stream",
     "text": [
      "Eigenvalues:\n",
      "2.0\n",
      "1.0\n",
      "\n",
      "Right Eigenvectors:\n",
      "[0.89442719 0.4472136 ]\n",
      "[0.70710678 0.70710678]\n"
     ]
    }
   ],
   "source": [
    "import numpy as np\n",
    "\n",
    "# Define the square array\n",
    "array = np.array([[3, -2], [1, 0]])\n",
    "\n",
    "# Compute the eigenvalues and right eigenvectors\n",
    "eigenvalues, eigenvectors = np.linalg.eig(array)\n",
    "\n",
    "# Print the eigenvalues\n",
    "print(\"Eigenvalues:\")\n",
    "for eigenvalue in eigenvalues:\n",
    "    print(eigenvalue)\n",
    "\n",
    "# Print the right eigenvectors\n",
    "print(\"\\nRight Eigenvectors:\")\n",
    "for eigenvector in eigenvectors.T:  # Transpose to get column vectors\n",
    "    print(eigenvector)\n"
   ]
  },
  {
   "cell_type": "code",
   "execution_count": null,
   "id": "7f660e52",
   "metadata": {},
   "outputs": [],
   "source": [
    "# 1) c) . Compute the sum of the diagonal element of a given array. "
   ]
  },
  {
   "cell_type": "code",
   "execution_count": 4,
   "id": "7c45c042",
   "metadata": {},
   "outputs": [
    {
     "name": "stdout",
     "output_type": "stream",
     "text": [
      "Sum of diagonal elements: 4\n"
     ]
    }
   ],
   "source": [
    "import numpy as np\n",
    "\n",
    "# Define the array\n",
    "array = np.array([[0, 1, 2], [3, 4, 5]])\n",
    "\n",
    "# Compute the sum of the diagonal elements\n",
    "diagonal_sum = np.trace(array)\n",
    "\n",
    "# Print the sum\n",
    "print(\"Sum of diagonal elements:\", diagonal_sum)\n"
   ]
  },
  {
   "cell_type": "code",
   "execution_count": null,
   "id": "70bbe65b",
   "metadata": {},
   "outputs": [],
   "source": [
    "# 1) d) Write a NumPy program to create a new shape to an array without changing its data. "
   ]
  },
  {
   "cell_type": "code",
   "execution_count": 5,
   "id": "9a04ad3a",
   "metadata": {},
   "outputs": [
    {
     "name": "stdout",
     "output_type": "stream",
     "text": [
      "Original Array:\n",
      "[[1 2]\n",
      " [3 4]\n",
      " [5 6]]\n",
      "\n",
      "Reshaped Array (3x2):\n",
      "[[1 2]\n",
      " [3 4]\n",
      " [5 6]]\n",
      "\n",
      "Reshaped Array (2x3):\n",
      "[[1 2 3]\n",
      " [4 5 6]]\n"
     ]
    }
   ],
   "source": [
    "import numpy as np\n",
    "\n",
    "# Define the original array\n",
    "original_array = np.array([[1, 2], [3, 4], [5, 6]])\n",
    "\n",
    "# Reshape to 3x2\n",
    "reshaped_array_1 = original_array.reshape(3, 2)\n",
    "\n",
    "# Reshape to 2x3\n",
    "reshaped_array_2 = original_array.reshape(2, 3)\n",
    "\n",
    "# Print the original array and the reshaped arrays\n",
    "print(\"Original Array:\")\n",
    "print(original_array)\n",
    "\n",
    "print(\"\\nReshaped Array (3x2):\")\n",
    "print(reshaped_array_1)\n",
    "\n",
    "print(\"\\nReshaped Array (2x3):\")\n",
    "print(reshaped_array_2)\n"
   ]
  },
  {
   "cell_type": "code",
   "execution_count": 15,
   "id": "5809ba70",
   "metadata": {},
   "outputs": [],
   "source": [
    "# 2)1) Write a Python programming to create a below chart of the popularity of programming Languages."
   ]
  },
  {
   "cell_type": "code",
   "execution_count": 17,
   "id": "0cd9a698",
   "metadata": {},
   "outputs": [
    {
     "data": {
      "image/png": "[encoded data removed]",
      "text/plain": [
       "<Figure size 432x288 with 1 Axes>"
      ]
     },
     "metadata": {},
     "output_type": "display_data"
    }
   ],
   "source": [
    "import matplotlib.pyplot as plt\n",
    "\n",
    "# Define the programming languages and their popularity scores\n",
    "languages = ['Java','Python','PHP', 'JavaScript', 'C#', 'C++']\n",
    "popularity_scores = [31.3,24.8,12.4,11.3,10.8,9.4]\n",
    "\n",
    "# Create the bar chart\n",
    "plt.pie(popularity_scores, labels=languages, autopct='%1.1f%%')\n",
    "\n",
    "# Add title\n",
    "\n",
    "plt.title('Popularity of Programming Languages')\n",
    "\n",
    "# Display the chart\n",
    "plt.show()\n"
   ]
  },
  {
   "cell_type": "code",
   "execution_count": 14,
   "id": "1fc19894",
   "metadata": {},
   "outputs": [],
   "source": [
    "# 2)2) Sample data: Programming languages: Java, Python, PHP, JavaScript, C#, C++, Popularity: 22.2, 17.6, 8.8, 8, 7.7, 6.7"
   ]
  },
  {
   "cell_type": "code",
   "execution_count": 18,
   "id": "b2db9b53",
   "metadata": {},
   "outputs": [
    {
     "data": {
      "image/png": "[encoded data removed]",
      "text/plain": [
       "<Figure size 432x288 with 1 Axes>"
      ]
     },
     "metadata": {},
     "output_type": "display_data"
    }
   ],
   "source": [
    "import matplotlib.pyplot as plt\n",
    "\n",
    "# Define the programming languages and their popularity scores\n",
    "languages = ['Java','Python','PHP', 'JavaScript', 'C#', 'C++']\n",
    "popularity_scores = [22.2, 17.6, 8.8, 8, 7.7, 6.7]\n",
    "\n",
    "# Create the bar chart\n",
    "plt.pie(popularity_scores, labels=languages, autopct='%1.1f%%')\n",
    "\n",
    "# Add title\n",
    "plt.title('Popularity of Programming Languages')\n",
    "\n",
    "# Display the chart\n",
    "plt.show()"
   ]
  },
  {
   "cell_type": "code",
   "execution_count": null,
   "id": "11af12f0",
   "metadata": {},
   "outputs": [],
   "source": []
  }
 ],
 "metadata": {
  "kernelspec": {
   "display_name": "Python 3",
   "language": "python",
   "name": "python3"
  },
  "language_info": {
   "codemirror_mode": {
    "name": "ipython",
    "version": 3
   },
   "file_extension": ".py",
   "mimetype": "text/x-python",
   "name": "python",
   "nbconvert_exporter": "python",
   "pygments_lexer": "ipython3",
   "version": "3.8.8"
  }
 },
 "nbformat": 4,
 "nbformat_minor": 5
}
